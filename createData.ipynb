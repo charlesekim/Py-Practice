{
 "cells": [
  {
   "cell_type": "code",
   "execution_count": 12,
   "id": "2237a3be",
   "metadata": {},
   "outputs": [],
   "source": [
    "import pandas as pd\n",
    "import numpy as np\n",
    "import random\n",
    "import os\n",
    "import math"
   ]
  },
  {
   "cell_type": "markdown",
   "id": "9a4ddcb5",
   "metadata": {},
   "source": [
    "# Create Data"
   ]
  },
  {
   "cell_type": "code",
   "execution_count": 13,
   "id": "6ab232ae",
   "metadata": {},
   "outputs": [],
   "source": [
    "# pandas.date_range(start=None, end=None, periods=None, freq=None, tz=None, normalize=False, name=None, closed=None, **kwargs)\n",
    "\n",
    "dates = pd.date_range(\"20190101\", \"20210101\", freq = \"D\", name = \"Dates\")\n",
    "dates = pd.Series(dates)"
   ]
  },
  {
   "cell_type": "code",
   "execution_count": 14,
   "id": "c8496da6",
   "metadata": {},
   "outputs": [],
   "source": [
    "# Set initial num rows\n",
    "num_rows = 3500\n",
    "# error rate\n",
    "nan_rate = 0.1\n",
    "\n",
    "\n",
    "# Creating rows\n",
    "# transaction_id\n",
    "tids = []\n",
    "# payment\n",
    "payment = []\n",
    "# transaction_type\n",
    "ttype = []\n",
    "# product_id\n",
    "pids = []\n",
    "# product_count\n",
    "pcount = []\n",
    "# product_name\n",
    "# dates\n",
    "purchase_dates = []\n",
    "\n",
    "product_ids = [\"a\", \"b\", \"c\",\"d\",\"e\"]\n",
    "for i in range(num_rows):\n",
    "    \n",
    "    pid = product_ids[random.randint(0,4)]\n",
    "    tid = i + random.randint(0,5)\n",
    "    tids.append(tid)\n",
    "    purchase_dates.append(dates[math.floor(math.sqrt(tid)) ])\n",
    "    if random.randint(0,100) > 2:\n",
    "        \n",
    "        payment.append(random.random() * 1000)\n",
    "        ttype.append(\"PURCHASE\")\n",
    "    else:\n",
    "                       \n",
    "        payment.append(random.random() * -1000)\n",
    "        ttype.append(\"REFUND\")\n",
    "    if random.randint(0,100 * nan_rate) == 1:\n",
    "        pcount.append(np.nan)\n",
    "        if random.randint(0,100 * 0.2) == 1:\n",
    "            pids.append(np.nan)\n",
    "        else:\n",
    "            pids.append(pid)\n",
    "        continue\n",
    "    else:\n",
    "        pcount.append(random.randint(0,5))\n",
    "        pids.append(pid)\n",
    "tids = pd.Series(tids)\n",
    "payment = pd.Series(payment)\n",
    "ttype = pd.Series(ttype)\n",
    "pids = pd.Series(pids)\n",
    "pcount = pd.Series(pcount)\n",
    "purchase_dates = pd.Series(purchase_dates)\n",
    "tids.name = 'transaction_id'\n",
    "payment.name = 'payment'\n",
    "ttype.name = 'transaction_type'\n",
    "pids.name = 'product_id'\n",
    "pcount.name = 'product_count'\n",
    "purchase_dates.name = \"dates\"\n",
    "\n",
    "\n"
   ]
  },
  {
   "cell_type": "code",
   "execution_count": 15,
   "id": "95d19300",
   "metadata": {},
   "outputs": [],
   "source": [
    "df = pd.concat([tids, payment, ttype, pids, pcount, purchase_dates], axis = 1)"
   ]
  },
  {
   "cell_type": "code",
   "execution_count": 16,
   "id": "bb4ec0ac",
   "metadata": {
    "scrolled": true
   },
   "outputs": [],
   "source": [
    "df.to_csv(\"transactions.csv\", index= False)"
   ]
  },
  {
   "cell_type": "code",
   "execution_count": null,
   "id": "1784d498",
   "metadata": {},
   "outputs": [],
   "source": []
  },
  {
   "cell_type": "code",
   "execution_count": null,
   "id": "dda2f4d1",
   "metadata": {},
   "outputs": [],
   "source": []
  },
  {
   "cell_type": "code",
   "execution_count": null,
   "id": "86658bad",
   "metadata": {},
   "outputs": [],
   "source": []
  },
  {
   "cell_type": "code",
   "execution_count": null,
   "id": "3cc490a0",
   "metadata": {},
   "outputs": [],
   "source": []
  },
  {
   "cell_type": "code",
   "execution_count": null,
   "id": "4bf7a198",
   "metadata": {},
   "outputs": [],
   "source": []
  },
  {
   "cell_type": "code",
   "execution_count": null,
   "id": "9f58eb86",
   "metadata": {},
   "outputs": [],
   "source": []
  },
  {
   "cell_type": "code",
   "execution_count": null,
   "id": "827c1382",
   "metadata": {},
   "outputs": [],
   "source": []
  }
 ],
 "metadata": {
  "kernelspec": {
   "display_name": "Python 3",
   "language": "python",
   "name": "python3"
  },
  "language_info": {
   "codemirror_mode": {
    "name": "ipython",
    "version": 3
   },
   "file_extension": ".py",
   "mimetype": "text/x-python",
   "name": "python",
   "nbconvert_exporter": "python",
   "pygments_lexer": "ipython3",
   "version": "3.8.8"
  }
 },
 "nbformat": 4,
 "nbformat_minor": 5
}
